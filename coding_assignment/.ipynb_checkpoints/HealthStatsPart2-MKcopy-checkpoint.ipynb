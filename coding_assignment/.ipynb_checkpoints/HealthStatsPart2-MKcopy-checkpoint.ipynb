{
 "cells": [
  {
   "cell_type": "markdown",
   "metadata": {},
   "source": [
    "# Health Stats Part 1: Waist 2 Hip Ratios"
   ]
  },
  {
   "cell_type": "markdown",
   "metadata": {},
   "source": [
    "# W2H Ratio\n",
    "- a ratio of the circumference of a person's waist to their hips (see photo below for further explanation)\n",
    "    - waist circumference is measured just above the belly button\n",
    "    - hip circumference is measured at the widest part of the hips\n",
    "- this measurment is calculated by dividing waist by hips:\n",
    "    $ ratio_{w2h} = \\frac{w}{h} $\n",
    "- this ratio is used to indicate the relative health of a person and their risk of developing a serious health condition in the future\n",
    "    - larger waist circumference (apple- shaped) can lead to greater health risk, rather than a larger hip circumference (pear- shaped)\n",
    "    - for instance, the risk for diabetes increases with a W2H ratio above 0.85 for females and above 1.0 for men due to fat distribution\n",
    "    - this ratio is also thought to be correlated with fertility\n",
    "\n",
    "- research shows that obesity can be defined by a W2H ratio: \n",
    "    - above 0.90 for males\n",
    "    - above 0.85 for females \n",
    "  \n",
    "source: https://en.wikipedia.org/wiki/Waist–hip_ratio\n",
    "\n",
    "<img src = 'https://upload.wikimedia.org/wikipedia/commons/d/dd/Waist-hip_ratio.svg' />\n",
    "\n",
    "\n",
    "The following table represents W2H ratios considered by three well-known organizations. \n",
    "    - DGSP\n",
    "        -represents the first two columns of women and men data\n",
    "    - WHO\n",
    "        -represents the second two columns of women and men data\n",
    "    - NIDDK\n",
    "        -represents the third two columns of women and men data\n",
    "    \n",
    "\n",
    "| **DGSP** | **WHO** | **NIDDK** |\n",
    "| ------- :| -----: | -----: |\n",
    "\n",
    "| Women | Men | Women | Men | Women | Men |      |\n",
    "| -----:| ---: | -----:| ---:| -----:| ---: | ---: |\n",
    "| ?  | ?  | ?  | ?  | ?  | ?  |**under-weight**|\n",
    "| < 0.80| < 0.90 | ?  | ?  | ?  | ?  |**normal weight**|\n",
    "| 0.80-0.84 | 0.90-0.99 | ?  | ?  | ?  | ?  |**over-weight**|\n",
    "| >0.85 | >1.00 | >0.85  | >0.90  | >0.80  | >1.00  |**obesity**| \n",
    "   \n",
    "   \n",
    "   \n",
    "\n",
    "\n"
   ]
  },
  {
   "cell_type": "markdown",
   "metadata": {},
   "source": [
    "<!--- Write an explanation of the Waist To Hips Ratio statistic used by health professionals. Please include an explanation of what it is used for, exactly how it is calculated, and how to interpret the results. Note: Formmatting matters. Make this as professional as you can using Markdown.  --->\n",
    "\n",
    "<!--- feel free to use any web resources, including [Wikipedia](https://en.wikipedia.org/wiki/Waist%E2%80%93hip_ratio) or any other resources that you can find online. Just MAKE SURE you provide a link to every resource you decide to use. --->\n",
    "\n",
    "<!--- Including the formula, or that fancy diagram/table you see on wikipedia is DEFINITELY a good idea! How? The LaTeX equations section in [This link](https://jupyter-notebook.readthedocs.io/en/stable/examples/Notebook/Working%20With%20Markdown%20Cells.html) might help. --->\n",
    "\n",
    "<!--- For extra points, try to create a table similar to the one on the wikipedia page on your own. --->\n",
    "\n",
    "__EDIT THIS MARKDOWN CELL__"
   ]
  },
  {
   "cell_type": "markdown",
   "metadata": {},
   "source": [
    "## Source Data "
   ]
  },
  {
   "cell_type": "markdown",
   "metadata": {},
   "source": [
    "\n",
    "\n",
    "## Definitions of Columns in CSV File\n",
    "- **ID**: uniquie identifier of each person, integer\n",
    "- **Waist**: measurment for circumference of area just above the belly button, integer\n",
    "- **Hip**: measurment for circumference of area at the widest part of the hips, integer\n",
    "- **Gender**: identity identifier of each person, string\n",
    "\n"
   ]
  },
  {
   "cell_type": "markdown",
   "metadata": {},
   "source": [
    "## Data Import\n",
    "\n",
    "For whatever type of analysis, we need to read in the data. \n",
    "\n",
    "This is the basic way how Python read-in data. \n",
    "\n",
    "For more information regarding this part, read Chapter 7 in your PY4E textbook."
   ]
  },
  {
   "cell_type": "code",
   "execution_count": 1,
   "metadata": {
    "collapsed": true
   },
   "outputs": [],
   "source": [
    "# Goal: Extract the data from the file\n",
    "\n",
    "import csv #need to impor csv file in order to use it below\n",
    "\n",
    "# opens the w2h_data.csv for reading\n",
    "f = open(\"w2h_data.csv\", \"r\")\n",
    "\n",
    "# loads the file into a list of strings, one string per line\n",
    "raw_lines = list(f)\n",
    "\n",
    "# closes the file\n",
    "f.close()"
   ]
  },
  {
   "cell_type": "code",
   "execution_count": 28,
   "metadata": {},
   "outputs": [],
   "source": [
    "#import re\n",
    "#import csv\n",
    "\n",
    "#with open('w2h_data.csv', 'r') as fp: \n",
    "    #for line in fp: \n",
    "        #line = line.rstrip()  \n",
    "       # if re.search('raw_lines', line): \n",
    "            #print(line)"
   ]
  },
  {
   "cell_type": "code",
   "execution_count": 2,
   "metadata": {},
   "outputs": [],
   "source": [
    "#old code that created list\n",
    "raw_rows = [r.rstrip('\\n').split(',') for r in raw_lines]"
   ]
  },
  {
   "cell_type": "code",
   "execution_count": 3,
   "metadata": {},
   "outputs": [
    {
     "name": "stdout",
     "output_type": "stream",
     "text": [
      "[['ID', 'Waist', 'Hip', 'Gender'], ['1', '30', '32', 'M'], ['2', '32', '37', 'M'], ['3', '30', '36', 'M'], ['4', '33', '39', 'M'], ['5', '29', '33', 'M'], ['6', '32', '38', 'M'], ['7', '33', '42', 'M'], ['8', '30', '40', 'M'], ['9', '30', '37', 'M'], ['10', '32', '39', 'M'], ['11', '24', '35', 'F'], ['12', '25', '37', 'F'], ['13', '24', '37', 'F'], ['14', '22', '34', 'F'], ['15', '26', '38', 'F'], ['16', '26', '37', 'F'], ['17', '25', '38', 'F'], ['18', '26', '37', 'F'], ['19', '28', '40', 'F'], ['20', '23', '35', 'F']]\n"
     ]
    }
   ],
   "source": [
    "print(raw_rows)"
   ]
  },
  {
   "cell_type": "code",
   "execution_count": 62,
   "metadata": {},
   "outputs": [
    {
     "name": "stdout",
     "output_type": "stream",
     "text": [
      "{'ID': [1, 2, 3, 4, 5, 6, 7, 8, 9, 10, 11, 12, 13, 14, 15, 16, 17, 18, 19, 20], 'Waist': [30, 32, 30, 33, 29, 32, 33, 30, 30, 32, 24, 25, 24, 22, 26, 26, 25, 26, 28, 23], 'Hip': [32, 37, 36, 39, 33, 38, 42, 30, 37, 39, 35, 37, 37, 34, 38, 37, 38, 37, 40, 35], 'Gender': ['M', 'M', 'M', 'M', 'M', 'M', 'M', 'M', 'M', 'M', 'F', 'F', 'F', 'F', 'F', 'F', 'F', 'F', 'F', 'F']}\n"
     ]
    }
   ],
   "source": [
    "#turn above into a dictionary\n",
    "#w2h_dict = {'ID':[1,2,3,4,5,6,7,8,9,10,11,12,13,14,15,16,17,18,19,20],'Waist':[30, 32, 30, 33, 29, 32, 33, 30, 30, 32, 24, 25, 24, 22, 26, 26, 25, 26, 28, 23],'Hip': [32, 37, 36, 39, 33, 38, 42, 30, 37, 39, 35, 37, 37, 34, 38, 37, 38, 37, 40, 35],'Gender': ['M', 'M', 'M', 'M', 'M', 'M', 'M', 'M', 'M', 'M', 'F', 'F', 'F', 'F', 'F', 'F', 'F', 'F', 'F', 'F']}\n",
    "#print(w2h_dict)"
   ]
  },
  {
   "cell_type": "code",
   "execution_count": 7,
   "metadata": {},
   "outputs": [
    {
     "name": "stdout",
     "output_type": "stream",
     "text": [
      "[[1, 30, 32, 'M'], [2, 32, 37, 'M'], [3, 30, 36, 'M'], [4, 33, 39, 'M'], [5, 29, 33, 'M'], [6, 32, 38, 'M'], [7, 33, 42, 'M'], [8, 30, 40, 'M'], [9, 30, 37, 'M'], [10, 32, 39, 'M'], [11, 24, 35, 'F'], [12, 25, 37, 'F'], [13, 24, 37, 'F'], [14, 22, 34, 'F'], [15, 26, 38, 'F'], [16, 26, 37, 'F'], [17, 25, 38, 'F'], [18, 26, 37, 'F'], [19, 28, 40, 'F'], [20, 23, 35, 'F']]\n"
     ]
    }
   ],
   "source": [
    "raw_rows = [r.rstrip('\\n').split(',') for r in raw_lines] \n",
    "rows = list() \n",
    "#rows.append(raw_rows[0]);\n",
    "\n",
    "for raw_row in raw_rows[1:]:\n",
    "    row = [int(raw_row[0]),int(raw_row[1]),int(raw_row[2]),raw_row[3]]\n",
    "    rows.append(row)\n",
    "    \n",
    "print(rows)   "
   ]
  },
  {
   "cell_type": "code",
   "execution_count": 15,
   "metadata": {},
   "outputs": [
    {
     "name": "stdout",
     "output_type": "stream",
     "text": [
      "[1, 2, 3, 4, 5, 6, 7, 8, 9, 10, 11, 12, 13, 14, 15, 16, 17, 18, 19, 20]\n",
      "[30, 32, 30, 33, 29, 32, 33, 30, 30, 32, 24, 25, 24, 22, 26, 26, 25, 26, 28, 23]\n",
      "[32, 37, 36, 39, 33, 38, 42, 40, 37, 39, 35, 37, 37, 34, 38, 37, 38, 37, 40, 35]\n",
      "['M', 'M', 'M', 'M', 'M', 'M', 'M', 'M', 'M', 'M', 'F', 'F', 'F', 'F', 'F', 'F', 'F', 'F', 'F', 'F']\n"
     ]
    }
   ],
   "source": [
    "# example= lst_of_lsts = [[1, 30, 32, 'M'], [2, 32, 37, 'M'], [3, 30, 36, 'M']]\n",
    "\n",
    "#create empty lists to populate seperate above lists\n",
    "id_lst = []\n",
    "waist_lst = []\n",
    "hip_lst =[]\n",
    "gender_lst =[]\n",
    "for lst in rows:\n",
    "    #print(lst)\n",
    "    id_lst.append(lst[0])\n",
    "    waist_lst.append(lst[1])\n",
    "    hip_lst.append(lst[2])\n",
    "    gender_lst.append(lst[3])\n",
    "print(id_lst)\n",
    "print(waist_lst)\n",
    "print(hip_lst)\n",
    "print(gender_lst)"
   ]
  },
  {
   "cell_type": "code",
   "execution_count": 38,
   "metadata": {},
   "outputs": [
    {
     "name": "stdout",
     "output_type": "stream",
     "text": [
      "{'ID': [1, 2, 3, 4, 5, 6, 7, 8, 9, 10, 11, 12, 13, 14, 15, 16, 17, 18, 19, 20], 'Waist': [30, 32, 30, 33, 29, 32, 33, 30, 30, 32, 24, 25, 24, 22, 26, 26, 25, 26, 28, 23], 'Hip': [32, 37, 36, 39, 33, 38, 42, 40, 37, 39, 35, 37, 37, 34, 38, 37, 38, 37, 40, 35], 'Gender': ['M', 'M', 'M', 'M', 'M', 'M', 'M', 'M', 'M', 'M', 'F', 'F', 'F', 'F', 'F', 'F', 'F', 'F', 'F', 'F']}\n"
     ]
    }
   ],
   "source": [
    "value_lst = [id_lst, waist_lst, hip_lst, gender_lst]\n",
    "key_lst = raw_rows[0]\n",
    "w2h_dict = dict(zip(key_lst, value_lst))\n",
    "\n",
    "print(w2h_dict)"
   ]
  },
  {
   "cell_type": "markdown",
   "metadata": {},
   "source": [
    "Data are not useful when they are in the wrong data type, or have wrong values, missing values... \n",
    "\n",
    "Clean up your data is an important step in any analysis."
   ]
  },
  {
   "cell_type": "code",
   "execution_count": 17,
   "metadata": {},
   "outputs": [
    {
     "name": "stdout",
     "output_type": "stream",
     "text": [
      "{'Gender', 'ID', 'Hip', 'Waist'}\n"
     ]
    }
   ],
   "source": [
    "#create new dictionary 'rows', starting with just the column names\n",
    "rows = {'ID','Waist','Hip','Gender'}\n",
    "print(rows)"
   ]
  },
  {
   "cell_type": "markdown",
   "metadata": {},
   "source": [
    "## Calculations\n",
    "\n",
    "Sometimes, the data given to you do not contain the values you need directly, you will need to calculate them somehow. \n",
    "\n",
    "In this part, you calculate two new features namely `W2H Ratio` and `Shape`."
   ]
  },
  {
   "cell_type": "code",
   "execution_count": 73,
   "metadata": {},
   "outputs": [
    {
     "name": "stdout",
     "output_type": "stream",
     "text": [
      "{'Shape', 'ID', 'Hip', 'Waist', 'Gender', 'W2H_Ratio'}\n"
     ]
    }
   ],
   "source": [
    "#extend rows to include \"W2H Ratio\" and \"Shape\"\n",
    "rows = {'ID', 'Waist', 'Hip', 'Gender', 'W2H_Ratio', 'Shape'}\n",
    "print(rows)"
   ]
  },
  {
   "cell_type": "code",
   "execution_count": 20,
   "metadata": {},
   "outputs": [
    {
     "name": "stdout",
     "output_type": "stream",
     "text": [
      "[0.9375, 0.8648648648648649, 0.8333333333333334, 0.8461538461538461, 0.8787878787878788, 0.8421052631578947, 0.7857142857142857, 0.75, 0.8108108108108109, 0.8205128205128205, 0.6857142857142857, 0.6756756756756757, 0.6486486486486487, 0.6470588235294118, 0.6842105263157895, 0.7027027027027027, 0.6578947368421053, 0.7027027027027027, 0.7, 0.6571428571428571]\n"
     ]
    }
   ],
   "source": [
    "w2h_ratio = [x/y for x,y in zip(waist_lst,hip_lst)] #found on stack overflow- however goes back to out lesson on for loops:https://stackoverflow.com/questions/43047685/divide-two-list-of-numbers-in-python-using-list-comprehension-and-not-using-zip\n",
    " \n",
    "\n",
    "\n",
    "print(w2h_ratio)"
   ]
  },
  {
   "cell_type": "code",
   "execution_count": 22,
   "metadata": {},
   "outputs": [
    {
     "name": "stdout",
     "output_type": "stream",
     "text": [
      "{'ID': [1, 2, 3, 4, 5, 6, 7, 8, 9, 10, 11, 12, 13, 14, 15, 16, 17, 18, 19, 20], 'Waist': [30, 32, 30, 33, 29, 32, 33, 30, 30, 32, 24, 25, 24, 22, 26, 26, 25, 26, 28, 23], 'Hip': [32, 37, 36, 39, 33, 38, 42, 40, 37, 39, 35, 37, 37, 34, 38, 37, 38, 37, 40, 35], 'Gender': ['M', 'M', 'M', 'M', 'M', 'M', 'M', 'M', 'M', 'M', 'F', 'F', 'F', 'F', 'F', 'F', 'F', 'F', 'F', 'F'], 'w2h_ratio': [0.9375, 0.8648648648648649, 0.8333333333333334, 0.8461538461538461, 0.8787878787878788, 0.8421052631578947, 0.7857142857142857, 0.75, 0.8108108108108109, 0.8205128205128205, 0.6857142857142857, 0.6756756756756757, 0.6486486486486487, 0.6470588235294118, 0.6842105263157895, 0.7027027027027027, 0.6578947368421053, 0.7027027027027027, 0.7, 0.6571428571428571]}\n"
     ]
    }
   ],
   "source": [
    "#update dictionary to include w2h_ratio\n",
    "\n",
    "w2h_dict['w2h_ratio']= w2h_ratio\n",
    "\n",
    "print(w2h_dict)"
   ]
  },
  {
   "cell_type": "code",
   "execution_count": 41,
   "metadata": {},
   "outputs": [
    {
     "ename": "TypeError",
     "evalue": "'<' not supported between instances of 'list' and 'float'",
     "output_type": "error",
     "traceback": [
      "\u001b[0;31m---------------------------------------------------------------------------\u001b[0m",
      "\u001b[0;31mTypeError\u001b[0m                                 Traceback (most recent call last)",
      "\u001b[0;32m<ipython-input-41-57c5547b5c8e>\u001b[0m in \u001b[0;36m<module>\u001b[0;34m\u001b[0m\n\u001b[1;32m      4\u001b[0m \u001b[0;34m\u001b[0m\u001b[0m\n\u001b[1;32m      5\u001b[0m \u001b[0;32mfor\u001b[0m \u001b[0mshape_lst\u001b[0m \u001b[0;32min\u001b[0m \u001b[0mw2h_ratio\u001b[0m\u001b[0;34m:\u001b[0m\u001b[0;34m\u001b[0m\u001b[0;34m\u001b[0m\u001b[0m\n\u001b[0;32m----> 6\u001b[0;31m     \u001b[0;32mif\u001b[0m \u001b[0mw2h_ratio\u001b[0m \u001b[0;34m<\u001b[0m \u001b[0;36m0.90\u001b[0m\u001b[0;34m:\u001b[0m \u001b[0;31m# Based on the ratio and the gender, set the variable shape to either 'Apple' or 'Pear'\u001b[0m\u001b[0;34m\u001b[0m\u001b[0;34m\u001b[0m\u001b[0m\n\u001b[0m\u001b[1;32m      7\u001b[0m         \u001b[0mshape_lst\u001b[0m\u001b[0;34m.\u001b[0m\u001b[0mappend\u001b[0m\u001b[0;34m(\u001b[0m\u001b[0;34m'Pear'\u001b[0m\u001b[0;34m)\u001b[0m\u001b[0;34m\u001b[0m\u001b[0;34m\u001b[0m\u001b[0m\n\u001b[1;32m      8\u001b[0m     \u001b[0;32melse\u001b[0m\u001b[0;34m:\u001b[0m\u001b[0;34m\u001b[0m\u001b[0;34m\u001b[0m\u001b[0m\n",
      "\u001b[0;31mTypeError\u001b[0m: '<' not supported between instances of 'list' and 'float'"
     ]
    }
   ],
   "source": [
    "# Based on the ratio and the gender, set the variable shape to either 'Apple' or 'Pear'- how to do this- create for loop\n",
    "\n",
    "\n",
    "shape_lst = []\n",
    "w2h_ratio = [x/y for x,y in zip(waist_lst,hip_lst)] \n",
    "\n",
    "for shape_lst in w2h_ratio:\n",
    "    if w2h_ratio < 0.90: # Based on the ratio and the gender, set the variable shape to either 'Apple' or 'Pear'\n",
    "        shape_lst.append('Pear')\n",
    "    else:\n",
    "        shape_lst.append('Apple')\n",
    "\n",
    "print(shape_lst)"
   ]
  },
  {
   "cell_type": "code",
   "execution_count": 31,
   "metadata": {},
   "outputs": [],
   "source": [
    "w2h_dict['shape'] = shape_lst"
   ]
  },
  {
   "cell_type": "markdown",
   "metadata": {},
   "source": [
    "## Output\n",
    "\n",
    "In your analysis report, it is always helpful to display your data somehow.\n",
    "\n",
    "This is a very rudimentary way to displaying your data, including the original features and the new features you just calculated."
   ]
  },
  {
   "cell_type": "code",
   "execution_count": 32,
   "metadata": {
    "collapsed": false
   },
   "outputs": [
    {
     "ename": "TypeError",
     "evalue": "'set' object does not support indexing",
     "output_type": "error",
     "traceback": [
      "\u001b[0;31m---------------------------------------------------------------------------\u001b[0m",
      "\u001b[0;31mTypeError\u001b[0m                                 Traceback (most recent call last)",
      "\u001b[0;32m<ipython-input-32-63d48f13374a>\u001b[0m in \u001b[0;36m<module>\u001b[0;34m\u001b[0m\n\u001b[1;32m      3\u001b[0m \u001b[0;31m# Note: this works, but we can do this much better with pandas\u001b[0m\u001b[0;34m\u001b[0m\u001b[0;34m\u001b[0m\u001b[0;34m\u001b[0m\u001b[0m\n\u001b[1;32m      4\u001b[0m \u001b[0mhtml_table\u001b[0m \u001b[0;34m=\u001b[0m \u001b[0;34m'<table><tr><th>'\u001b[0m\u001b[0;34m\u001b[0m\u001b[0;34m\u001b[0m\u001b[0m\n\u001b[0;32m----> 5\u001b[0;31m \u001b[0mhtml_table\u001b[0m \u001b[0;34m+=\u001b[0m \u001b[0;34m\"</th><th>\"\u001b[0m\u001b[0;34m.\u001b[0m\u001b[0mjoin\u001b[0m\u001b[0;34m(\u001b[0m\u001b[0mrows\u001b[0m\u001b[0;34m[\u001b[0m\u001b[0;36m0\u001b[0m\u001b[0;34m]\u001b[0m\u001b[0;34m)\u001b[0m\u001b[0;34m\u001b[0m\u001b[0;34m\u001b[0m\u001b[0m\n\u001b[0m\u001b[1;32m      6\u001b[0m \u001b[0mhtml_table\u001b[0m \u001b[0;34m+=\u001b[0m \u001b[0;34m'</th></tr>'\u001b[0m\u001b[0;34m\u001b[0m\u001b[0;34m\u001b[0m\u001b[0m\n\u001b[1;32m      7\u001b[0m \u001b[0;32mfor\u001b[0m \u001b[0mrow\u001b[0m \u001b[0;32min\u001b[0m \u001b[0mrows\u001b[0m\u001b[0;34m[\u001b[0m\u001b[0;36m1\u001b[0m\u001b[0;34m:\u001b[0m\u001b[0;34m]\u001b[0m\u001b[0;34m:\u001b[0m\u001b[0;34m\u001b[0m\u001b[0;34m\u001b[0m\u001b[0m\n",
      "\u001b[0;31mTypeError\u001b[0m: 'set' object does not support indexing"
     ]
    }
   ],
   "source": [
    "# Goal: pretty print the rows as an HTML table\n",
    "\n",
    "# Note: this works, but we can do this much better with pandas\n",
    "html_table = '<table><tr><th>'\n",
    "html_table += \"</th><th>\".join(rows[0])\n",
    "html_table += '</th></tr>'\n",
    "for row in rows[1:]:\n",
    "    html_table += \"<tr><td>\"\n",
    "    html_table += \"</td><td>\".join(str(col) for col in row)\n",
    "    html_table += \"</td></tr>\"\n",
    "html_table += \"</table>\"\n",
    "\n",
    "from IPython.display import HTML, display\n",
    "display(HTML(html_table))"
   ]
  },
  {
   "cell_type": "code",
   "execution_count": null,
   "metadata": {},
   "outputs": [],
   "source": []
  }
 ],
 "metadata": {
  "kernelspec": {
   "display_name": "Python 3",
   "language": "python",
   "name": "python3"
  },
  "language_info": {
   "codemirror_mode": {
    "name": "ipython",
    "version": 3
   },
   "file_extension": ".py",
   "mimetype": "text/x-python",
   "name": "python",
   "nbconvert_exporter": "python",
   "pygments_lexer": "ipython3",
   "version": "3.6.7"
  }
 },
 "nbformat": 4,
 "nbformat_minor": 2
}
